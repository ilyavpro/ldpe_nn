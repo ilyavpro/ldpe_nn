{
 "cells": [
  {
   "cell_type": "code",
   "execution_count": 1,
   "id": "836cfe3f",
   "metadata": {},
   "outputs": [
    {
     "name": "stdout",
     "output_type": "stream",
     "text": [
      "Файл загружен: C:\\Users\\Ilya\\Desktop\\AES\\code\\ldpe_nn\\datasets\\grade_1_05-21_13-58_test.csv\n",
      "Файл загружен: C:\\Users\\Ilya\\Desktop\\AES\\code\\ldpe_nn\\datasets\\grade_2_05-21_14-10_test.csv\n",
      "Файл загружен: C:\\Users\\Ilya\\Desktop\\AES\\code\\ldpe_nn\\datasets\\grade_3_05-21_14-19_test.csv\n",
      "Файл загружен: C:\\Users\\Ilya\\Desktop\\AES\\code\\ldpe_nn\\datasets\\grade_4_05-21_15-30_test.csv\n",
      "Файл загружен: C:\\Users\\Ilya\\Desktop\\AES\\code\\ldpe_nn\\datasets\\grade_5_05-21_15-54_test.csv\n",
      "Файл загружен: C:\\Users\\Ilya\\Desktop\\AES\\code\\ldpe_nn\\datasets\\grade_6_05-21_16-21_test.csv\n",
      "Объединённый датасет сохранён как: C:\\Users\\Ilya\\Desktop\\AES\\code\\ldpe_nn\\datasets\\сombined_df_grade_1_6_21_05.csv\n"
     ]
    }
   ],
   "source": [
    "import pandas as pd\n",
    "import os\n",
    "\n",
    "# Задайте пути к нужным CSV-файлам\n",
    "dataset_paths = [\n",
    "    r'C:\\Users\\Ilya\\Desktop\\AES\\code\\ldpe_nn\\datasets\\grade_1_05-21_13-58_test.csv',\n",
    "    r'C:\\Users\\Ilya\\Desktop\\AES\\code\\ldpe_nn\\datasets\\grade_2_05-21_14-10_test.csv',\n",
    "    r'C:\\Users\\Ilya\\Desktop\\AES\\code\\ldpe_nn\\datasets\\grade_3_05-21_14-19_test.csv',\n",
    "    r'C:\\Users\\Ilya\\Desktop\\AES\\code\\ldpe_nn\\datasets\\grade_4_05-21_15-30_test.csv',\n",
    "    r'C:\\Users\\Ilya\\Desktop\\AES\\code\\ldpe_nn\\datasets\\grade_5_05-21_15-54_test.csv',\n",
    "    r'C:\\Users\\Ilya\\Desktop\\AES\\code\\ldpe_nn\\datasets\\grade_6_05-21_16-21_test.csv',\n",
    "]\n",
    "\n",
    "# Список для хранения отдельных DataFrame\n",
    "dataframes = []\n",
    "\n",
    "# Проверяем существование файлов и загружаем их\n",
    "for path in dataset_paths:\n",
    "    if os.path.exists(path):\n",
    "        df = pd.read_csv(path)\n",
    "        dataframes.append(df)\n",
    "        print(f'Файл загружен: {path}')\n",
    "    else:\n",
    "        print(f'ВНИМАНИЕ: Файл не найден: {path}')\n",
    "\n",
    "# Проверка, что есть хотя бы один DataFrame для объединения\n",
    "if dataframes:\n",
    "    # Объединяем все DataFrame в один\n",
    "    combined_df = pd.concat(dataframes, ignore_index=True)\n",
    "\n",
    "    # Сохраняем объединённый DataFrame в новый CSV\n",
    "    output_path = r'C:\\Users\\Ilya\\Desktop\\AES\\code\\ldpe_nn\\datasets\\сombined_df_grade_1_6_21_05.csv'\n",
    "    combined_df.to_csv(output_path, index=False)\n",
    "    print(f'Объединённый датасет сохранён как: {output_path}')\n",
    "else:\n",
    "    print('Не найдено ни одного файла для объединения.')\n"
   ]
  }
 ],
 "metadata": {
  "kernelspec": {
   "display_name": "Python 3",
   "language": "python",
   "name": "python3"
  },
  "language_info": {
   "codemirror_mode": {
    "name": "ipython",
    "version": 3
   },
   "file_extension": ".py",
   "mimetype": "text/x-python",
   "name": "python",
   "nbconvert_exporter": "python",
   "pygments_lexer": "ipython3",
   "version": "3.10.16"
  }
 },
 "nbformat": 4,
 "nbformat_minor": 5
}
