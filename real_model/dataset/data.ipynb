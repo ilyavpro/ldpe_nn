{
 "cells": [
  {
   "cell_type": "code",
   "execution_count": 2,
   "id": "d659ef8a",
   "metadata": {},
   "outputs": [
    {
     "name": "stdout",
     "output_type": "stream",
     "text": [
      "Сохранено в: C:\\Users\\Ilya\\Desktop\\AES\\code\\ldpe_nn\\real_model\\dataset\\merged_tables.csv\n"
     ]
    }
   ],
   "source": [
    "# Ячейка 1: Импорт библиотек\n",
    "import os\n",
    "import glob\n",
    "import re\n",
    "import pandas as pd\n",
    "\n",
    "# Ячейка 2: Указать папку с файлами\n",
    "folder = rf'C:\\Users\\Ilya\\Desktop\\AES\\code\\ldpe_nn\\real_model\\dataset'\n",
    "\n",
    "# Ячейка 3: Поиск всех Excel-файлов, соответствующих паттерну\n",
    "all_files = glob.glob(os.path.join(folder, 'transformed_table_*.xlsx'))\n",
    "\n",
    "# Ячейка 4: Функция для сортировки по номеру таблицы\n",
    "def extract_table_number(filename):\n",
    "    # Ищем номер между '_table_' и следующим '_'\n",
    "    match = re.search(r'_table_(\\d+)', filename)\n",
    "    if match:\n",
    "        return int(match.group(1))\n",
    "    else:\n",
    "        return float('inf')  # если не найдено, ставим в конец\n",
    "\n",
    "sorted_files = sorted(all_files, key=extract_table_number)\n",
    "\n",
    "# Ячейка 5: Чтение и объединение файлов\n",
    "df_list = []\n",
    "for f in sorted_files:\n",
    "    df = pd.read_excel(f)\n",
    "    df_list.append(df)\n",
    "\n",
    "# Ячейка 6: Собираем всё в одну таблицу\n",
    "df_all = pd.concat(df_list, ignore_index=True)\n",
    "\n",
    "# Ячейка 7: Сохраняем в CSV\n",
    "output_path = os.path.join(folder, 'merged_tables.csv')\n",
    "df_all.to_csv(output_path, index=False)\n",
    "\n",
    "print(f'Сохранено в: {output_path}')\n"
   ]
  }
 ],
 "metadata": {
  "kernelspec": {
   "display_name": "Python 3",
   "language": "python",
   "name": "python3"
  },
  "language_info": {
   "codemirror_mode": {
    "name": "ipython",
    "version": 3
   },
   "file_extension": ".py",
   "mimetype": "text/x-python",
   "name": "python",
   "nbconvert_exporter": "python",
   "pygments_lexer": "ipython3",
   "version": "3.10.16"
  }
 },
 "nbformat": 4,
 "nbformat_minor": 5
}
